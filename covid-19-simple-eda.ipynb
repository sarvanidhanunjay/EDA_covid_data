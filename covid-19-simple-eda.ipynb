{
 "cells": [
  {
   "cell_type": "markdown",
   "id": "bd826b4b",
   "metadata": {
    "papermill": {
     "duration": 0.005645,
     "end_time": "2024-03-16T05:53:06.806605",
     "exception": false,
     "start_time": "2024-03-16T05:53:06.800960",
     "status": "completed"
    },
    "tags": []
   },
   "source": [
    "<div style=\"text-align: center\"><img src=\"https://phil.cdc.gov//PHIL_Images/23312/23312_lores.jpg\" width=\"100%\" heigh=\"100%\" alt=\"Retrieve&Re-Rank pipeline\"></div>"
   ]
  },
  {
   "cell_type": "code",
   "execution_count": 1,
   "id": "effe69ac",
   "metadata": {
    "execution": {
     "iopub.execute_input": "2024-03-16T05:53:06.819456Z",
     "iopub.status.busy": "2024-03-16T05:53:06.818795Z",
     "iopub.status.idle": "2024-03-16T05:53:08.975246Z",
     "shell.execute_reply": "2024-03-16T05:53:08.974231Z"
    },
    "papermill": {
     "duration": 2.165794,
     "end_time": "2024-03-16T05:53:08.977957",
     "exception": false,
     "start_time": "2024-03-16T05:53:06.812163",
     "status": "completed"
    },
    "tags": []
   },
   "outputs": [],
   "source": [
    "import matplotlib.pyplot as plt\n",
    "import seaborn as sns\n",
    "import numpy as np # linear algebra\n",
    "import pandas as pd # data processing, CSV file I/O (e.g. pd.read_csv)"
   ]
  },
  {
   "cell_type": "code",
   "execution_count": 2,
   "id": "aeb4f083",
   "metadata": {
    "execution": {
     "iopub.execute_input": "2024-03-16T05:53:08.990732Z",
     "iopub.status.busy": "2024-03-16T05:53:08.989581Z",
     "iopub.status.idle": "2024-03-16T05:53:09.033609Z",
     "shell.execute_reply": "2024-03-16T05:53:09.032489Z"
    },
    "papermill": {
     "duration": 0.053032,
     "end_time": "2024-03-16T05:53:09.036237",
     "exception": false,
     "start_time": "2024-03-16T05:53:08.983205",
     "status": "completed"
    },
    "tags": []
   },
   "outputs": [
    {
     "data": {
      "text/html": [
       "<div>\n",
       "<style scoped>\n",
       "    .dataframe tbody tr th:only-of-type {\n",
       "        vertical-align: middle;\n",
       "    }\n",
       "\n",
       "    .dataframe tbody tr th {\n",
       "        vertical-align: top;\n",
       "    }\n",
       "\n",
       "    .dataframe thead th {\n",
       "        text-align: right;\n",
       "    }\n",
       "</style>\n",
       "<table border=\"1\" class=\"dataframe\">\n",
       "  <thead>\n",
       "    <tr style=\"text-align: right;\">\n",
       "      <th></th>\n",
       "      <th>Country/Region</th>\n",
       "      <th>Confirmed</th>\n",
       "      <th>Deaths</th>\n",
       "      <th>Recovered</th>\n",
       "      <th>Active</th>\n",
       "      <th>New cases</th>\n",
       "      <th>New deaths</th>\n",
       "      <th>New recovered</th>\n",
       "      <th>Deaths / 100 Cases</th>\n",
       "      <th>Recovered / 100 Cases</th>\n",
       "      <th>Deaths / 100 Recovered</th>\n",
       "      <th>Confirmed last week</th>\n",
       "      <th>1 week change</th>\n",
       "      <th>1 week % increase</th>\n",
       "      <th>WHO Region</th>\n",
       "    </tr>\n",
       "  </thead>\n",
       "  <tbody>\n",
       "    <tr>\n",
       "      <th>0</th>\n",
       "      <td>Afghanistan</td>\n",
       "      <td>36263</td>\n",
       "      <td>1269</td>\n",
       "      <td>25198</td>\n",
       "      <td>9796</td>\n",
       "      <td>106</td>\n",
       "      <td>10</td>\n",
       "      <td>18</td>\n",
       "      <td>3.50</td>\n",
       "      <td>69.49</td>\n",
       "      <td>5.04</td>\n",
       "      <td>35526</td>\n",
       "      <td>737</td>\n",
       "      <td>2.07</td>\n",
       "      <td>Eastern Mediterranean</td>\n",
       "    </tr>\n",
       "    <tr>\n",
       "      <th>1</th>\n",
       "      <td>Albania</td>\n",
       "      <td>4880</td>\n",
       "      <td>144</td>\n",
       "      <td>2745</td>\n",
       "      <td>1991</td>\n",
       "      <td>117</td>\n",
       "      <td>6</td>\n",
       "      <td>63</td>\n",
       "      <td>2.95</td>\n",
       "      <td>56.25</td>\n",
       "      <td>5.25</td>\n",
       "      <td>4171</td>\n",
       "      <td>709</td>\n",
       "      <td>17.00</td>\n",
       "      <td>Europe</td>\n",
       "    </tr>\n",
       "    <tr>\n",
       "      <th>2</th>\n",
       "      <td>Algeria</td>\n",
       "      <td>27973</td>\n",
       "      <td>1163</td>\n",
       "      <td>18837</td>\n",
       "      <td>7973</td>\n",
       "      <td>616</td>\n",
       "      <td>8</td>\n",
       "      <td>749</td>\n",
       "      <td>4.16</td>\n",
       "      <td>67.34</td>\n",
       "      <td>6.17</td>\n",
       "      <td>23691</td>\n",
       "      <td>4282</td>\n",
       "      <td>18.07</td>\n",
       "      <td>Africa</td>\n",
       "    </tr>\n",
       "    <tr>\n",
       "      <th>3</th>\n",
       "      <td>Andorra</td>\n",
       "      <td>907</td>\n",
       "      <td>52</td>\n",
       "      <td>803</td>\n",
       "      <td>52</td>\n",
       "      <td>10</td>\n",
       "      <td>0</td>\n",
       "      <td>0</td>\n",
       "      <td>5.73</td>\n",
       "      <td>88.53</td>\n",
       "      <td>6.48</td>\n",
       "      <td>884</td>\n",
       "      <td>23</td>\n",
       "      <td>2.60</td>\n",
       "      <td>Europe</td>\n",
       "    </tr>\n",
       "    <tr>\n",
       "      <th>4</th>\n",
       "      <td>Angola</td>\n",
       "      <td>950</td>\n",
       "      <td>41</td>\n",
       "      <td>242</td>\n",
       "      <td>667</td>\n",
       "      <td>18</td>\n",
       "      <td>1</td>\n",
       "      <td>0</td>\n",
       "      <td>4.32</td>\n",
       "      <td>25.47</td>\n",
       "      <td>16.94</td>\n",
       "      <td>749</td>\n",
       "      <td>201</td>\n",
       "      <td>26.84</td>\n",
       "      <td>Africa</td>\n",
       "    </tr>\n",
       "  </tbody>\n",
       "</table>\n",
       "</div>"
      ],
      "text/plain": [
       "  Country/Region  Confirmed  Deaths  Recovered  Active  New cases  New deaths  \\\n",
       "0    Afghanistan      36263    1269      25198    9796        106          10   \n",
       "1        Albania       4880     144       2745    1991        117           6   \n",
       "2        Algeria      27973    1163      18837    7973        616           8   \n",
       "3        Andorra        907      52        803      52         10           0   \n",
       "4         Angola        950      41        242     667         18           1   \n",
       "\n",
       "   New recovered  Deaths / 100 Cases  Recovered / 100 Cases  \\\n",
       "0             18                3.50                  69.49   \n",
       "1             63                2.95                  56.25   \n",
       "2            749                4.16                  67.34   \n",
       "3              0                5.73                  88.53   \n",
       "4              0                4.32                  25.47   \n",
       "\n",
       "   Deaths / 100 Recovered  Confirmed last week  1 week change  \\\n",
       "0                    5.04                35526            737   \n",
       "1                    5.25                 4171            709   \n",
       "2                    6.17                23691           4282   \n",
       "3                    6.48                  884             23   \n",
       "4                   16.94                  749            201   \n",
       "\n",
       "   1 week % increase             WHO Region  \n",
       "0               2.07  Eastern Mediterranean  \n",
       "1              17.00                 Europe  \n",
       "2              18.07                 Africa  \n",
       "3               2.60                 Europe  \n",
       "4              26.84                 Africa  "
      ]
     },
     "execution_count": 2,
     "metadata": {},
     "output_type": "execute_result"
    }
   ],
   "source": [
    "df=pd.read_csv(\"/kaggle/input/corona-virus-report/country_wise_latest.csv\")\n",
    "df.head()"
   ]
  },
  {
   "cell_type": "code",
   "execution_count": 3,
   "id": "96998f2d",
   "metadata": {
    "execution": {
     "iopub.execute_input": "2024-03-16T05:53:09.049879Z",
     "iopub.status.busy": "2024-03-16T05:53:09.049479Z",
     "iopub.status.idle": "2024-03-16T05:53:09.076685Z",
     "shell.execute_reply": "2024-03-16T05:53:09.075624Z"
    },
    "papermill": {
     "duration": 0.036795,
     "end_time": "2024-03-16T05:53:09.079296",
     "exception": false,
     "start_time": "2024-03-16T05:53:09.042501",
     "status": "completed"
    },
    "tags": []
   },
   "outputs": [
    {
     "name": "stdout",
     "output_type": "stream",
     "text": [
      "<class 'pandas.core.frame.DataFrame'>\n",
      "RangeIndex: 187 entries, 0 to 186\n",
      "Data columns (total 15 columns):\n",
      " #   Column                  Non-Null Count  Dtype  \n",
      "---  ------                  --------------  -----  \n",
      " 0   Country/Region          187 non-null    object \n",
      " 1   Confirmed               187 non-null    int64  \n",
      " 2   Deaths                  187 non-null    int64  \n",
      " 3   Recovered               187 non-null    int64  \n",
      " 4   Active                  187 non-null    int64  \n",
      " 5   New cases               187 non-null    int64  \n",
      " 6   New deaths              187 non-null    int64  \n",
      " 7   New recovered           187 non-null    int64  \n",
      " 8   Deaths / 100 Cases      187 non-null    float64\n",
      " 9   Recovered / 100 Cases   187 non-null    float64\n",
      " 10  Deaths / 100 Recovered  187 non-null    float64\n",
      " 11  Confirmed last week     187 non-null    int64  \n",
      " 12  1 week change           187 non-null    int64  \n",
      " 13  1 week % increase       187 non-null    float64\n",
      " 14  WHO Region              187 non-null    object \n",
      "dtypes: float64(4), int64(9), object(2)\n",
      "memory usage: 22.0+ KB\n"
     ]
    }
   ],
   "source": [
    "df.info()"
   ]
  },
  {
   "cell_type": "code",
   "execution_count": 4,
   "id": "240bd718",
   "metadata": {
    "execution": {
     "iopub.execute_input": "2024-03-16T05:53:09.092770Z",
     "iopub.status.busy": "2024-03-16T05:53:09.091849Z",
     "iopub.status.idle": "2024-03-16T05:53:09.095980Z",
     "shell.execute_reply": "2024-03-16T05:53:09.095220Z"
    },
    "papermill": {
     "duration": 0.013025,
     "end_time": "2024-03-16T05:53:09.098035",
     "exception": false,
     "start_time": "2024-03-16T05:53:09.085010",
     "status": "completed"
    },
    "tags": []
   },
   "outputs": [],
   "source": [
    "import os"
   ]
  },
  {
   "cell_type": "code",
   "execution_count": 5,
   "id": "7d39e88c",
   "metadata": {
    "execution": {
     "iopub.execute_input": "2024-03-16T05:53:09.111747Z",
     "iopub.status.busy": "2024-03-16T05:53:09.111097Z",
     "iopub.status.idle": "2024-03-16T05:53:09.119400Z",
     "shell.execute_reply": "2024-03-16T05:53:09.118375Z"
    },
    "papermill": {
     "duration": 0.017853,
     "end_time": "2024-03-16T05:53:09.121849",
     "exception": false,
     "start_time": "2024-03-16T05:53:09.103996",
     "status": "completed"
    },
    "tags": []
   },
   "outputs": [
    {
     "data": {
      "text/plain": [
       "Country/Region            0\n",
       "Confirmed                 0\n",
       "Deaths                    0\n",
       "Recovered                 0\n",
       "Active                    0\n",
       "New cases                 0\n",
       "New deaths                0\n",
       "New recovered             0\n",
       "Deaths / 100 Cases        0\n",
       "Recovered / 100 Cases     0\n",
       "Deaths / 100 Recovered    0\n",
       "Confirmed last week       0\n",
       "1 week change             0\n",
       "1 week % increase         0\n",
       "WHO Region                0\n",
       "dtype: int64"
      ]
     },
     "execution_count": 5,
     "metadata": {},
     "output_type": "execute_result"
    }
   ],
   "source": [
    "df.isnull().sum()"
   ]
  },
  {
   "cell_type": "code",
   "execution_count": 6,
   "id": "c8b21726",
   "metadata": {
    "execution": {
     "iopub.execute_input": "2024-03-16T05:53:09.136293Z",
     "iopub.status.busy": "2024-03-16T05:53:09.135497Z",
     "iopub.status.idle": "2024-03-16T05:53:09.154632Z",
     "shell.execute_reply": "2024-03-16T05:53:09.153505Z"
    },
    "papermill": {
     "duration": 0.029243,
     "end_time": "2024-03-16T05:53:09.157145",
     "exception": false,
     "start_time": "2024-03-16T05:53:09.127902",
     "status": "completed"
    },
    "tags": []
   },
   "outputs": [
    {
     "data": {
      "text/html": [
       "<div>\n",
       "<style scoped>\n",
       "    .dataframe tbody tr th:only-of-type {\n",
       "        vertical-align: middle;\n",
       "    }\n",
       "\n",
       "    .dataframe tbody tr th {\n",
       "        vertical-align: top;\n",
       "    }\n",
       "\n",
       "    .dataframe thead th {\n",
       "        text-align: right;\n",
       "    }\n",
       "</style>\n",
       "<table border=\"1\" class=\"dataframe\">\n",
       "  <thead>\n",
       "    <tr style=\"text-align: right;\">\n",
       "      <th></th>\n",
       "      <th>Country/Region</th>\n",
       "      <th>Confirmed</th>\n",
       "      <th>Deaths</th>\n",
       "      <th>Recovered</th>\n",
       "      <th>Active</th>\n",
       "      <th>New cases</th>\n",
       "      <th>New deaths</th>\n",
       "      <th>New recovered</th>\n",
       "      <th>Deaths / 100 Cases</th>\n",
       "      <th>Recovered / 100 Cases</th>\n",
       "      <th>Deaths / 100 Recovered</th>\n",
       "      <th>Confirmed last week</th>\n",
       "      <th>1 week change</th>\n",
       "      <th>1 week % increase</th>\n",
       "      <th>WHO Region</th>\n",
       "    </tr>\n",
       "  </thead>\n",
       "  <tbody>\n",
       "    <tr>\n",
       "      <th>0</th>\n",
       "      <td>Afghanistan</td>\n",
       "      <td>36263</td>\n",
       "      <td>1269</td>\n",
       "      <td>25198</td>\n",
       "      <td>9796</td>\n",
       "      <td>106</td>\n",
       "      <td>10</td>\n",
       "      <td>18</td>\n",
       "      <td>3.50</td>\n",
       "      <td>69.49</td>\n",
       "      <td>5.04</td>\n",
       "      <td>35526</td>\n",
       "      <td>737</td>\n",
       "      <td>2.07</td>\n",
       "      <td>Eastern Mediterranean</td>\n",
       "    </tr>\n",
       "    <tr>\n",
       "      <th>1</th>\n",
       "      <td>Albania</td>\n",
       "      <td>4880</td>\n",
       "      <td>144</td>\n",
       "      <td>2745</td>\n",
       "      <td>1991</td>\n",
       "      <td>117</td>\n",
       "      <td>6</td>\n",
       "      <td>63</td>\n",
       "      <td>2.95</td>\n",
       "      <td>56.25</td>\n",
       "      <td>5.25</td>\n",
       "      <td>4171</td>\n",
       "      <td>709</td>\n",
       "      <td>17.00</td>\n",
       "      <td>Europe</td>\n",
       "    </tr>\n",
       "    <tr>\n",
       "      <th>2</th>\n",
       "      <td>Algeria</td>\n",
       "      <td>27973</td>\n",
       "      <td>1163</td>\n",
       "      <td>18837</td>\n",
       "      <td>7973</td>\n",
       "      <td>616</td>\n",
       "      <td>8</td>\n",
       "      <td>749</td>\n",
       "      <td>4.16</td>\n",
       "      <td>67.34</td>\n",
       "      <td>6.17</td>\n",
       "      <td>23691</td>\n",
       "      <td>4282</td>\n",
       "      <td>18.07</td>\n",
       "      <td>Africa</td>\n",
       "    </tr>\n",
       "    <tr>\n",
       "      <th>3</th>\n",
       "      <td>Andorra</td>\n",
       "      <td>907</td>\n",
       "      <td>52</td>\n",
       "      <td>803</td>\n",
       "      <td>52</td>\n",
       "      <td>10</td>\n",
       "      <td>0</td>\n",
       "      <td>0</td>\n",
       "      <td>5.73</td>\n",
       "      <td>88.53</td>\n",
       "      <td>6.48</td>\n",
       "      <td>884</td>\n",
       "      <td>23</td>\n",
       "      <td>2.60</td>\n",
       "      <td>Europe</td>\n",
       "    </tr>\n",
       "    <tr>\n",
       "      <th>4</th>\n",
       "      <td>Angola</td>\n",
       "      <td>950</td>\n",
       "      <td>41</td>\n",
       "      <td>242</td>\n",
       "      <td>667</td>\n",
       "      <td>18</td>\n",
       "      <td>1</td>\n",
       "      <td>0</td>\n",
       "      <td>4.32</td>\n",
       "      <td>25.47</td>\n",
       "      <td>16.94</td>\n",
       "      <td>749</td>\n",
       "      <td>201</td>\n",
       "      <td>26.84</td>\n",
       "      <td>Africa</td>\n",
       "    </tr>\n",
       "  </tbody>\n",
       "</table>\n",
       "</div>"
      ],
      "text/plain": [
       "  Country/Region  Confirmed  Deaths  Recovered  Active  New cases  New deaths  \\\n",
       "0    Afghanistan      36263    1269      25198    9796        106          10   \n",
       "1        Albania       4880     144       2745    1991        117           6   \n",
       "2        Algeria      27973    1163      18837    7973        616           8   \n",
       "3        Andorra        907      52        803      52         10           0   \n",
       "4         Angola        950      41        242     667         18           1   \n",
       "\n",
       "   New recovered  Deaths / 100 Cases  Recovered / 100 Cases  \\\n",
       "0             18                3.50                  69.49   \n",
       "1             63                2.95                  56.25   \n",
       "2            749                4.16                  67.34   \n",
       "3              0                5.73                  88.53   \n",
       "4              0                4.32                  25.47   \n",
       "\n",
       "   Deaths / 100 Recovered  Confirmed last week  1 week change  \\\n",
       "0                    5.04                35526            737   \n",
       "1                    5.25                 4171            709   \n",
       "2                    6.17                23691           4282   \n",
       "3                    6.48                  884             23   \n",
       "4                   16.94                  749            201   \n",
       "\n",
       "   1 week % increase             WHO Region  \n",
       "0               2.07  Eastern Mediterranean  \n",
       "1              17.00                 Europe  \n",
       "2              18.07                 Africa  \n",
       "3               2.60                 Europe  \n",
       "4              26.84                 Africa  "
      ]
     },
     "execution_count": 6,
     "metadata": {},
     "output_type": "execute_result"
    }
   ],
   "source": [
    "df.head()"
   ]
  },
  {
   "cell_type": "code",
   "execution_count": 7,
   "id": "5d5268c5",
   "metadata": {
    "execution": {
     "iopub.execute_input": "2024-03-16T05:53:09.171781Z",
     "iopub.status.busy": "2024-03-16T05:53:09.171362Z",
     "iopub.status.idle": "2024-03-16T05:53:09.569908Z",
     "shell.execute_reply": "2024-03-16T05:53:09.568738Z"
    },
    "papermill": {
     "duration": 0.408895,
     "end_time": "2024-03-16T05:53:09.572351",
     "exception": false,
     "start_time": "2024-03-16T05:53:09.163456",
     "status": "completed"
    },
    "tags": []
   },
   "outputs": [
    {
     "data": {
      "image/png": "[encoded data removed]",
      "text/plain": [
       "<Figure size 640x480 with 1 Axes>"
      ]
     },
     "metadata": {},
     "output_type": "display_data"
    }
   ],
   "source": [
    "column_names = ['Confirmed','Deaths','Recovered','Active']\n",
    "# Calulate the sum of specified columns\n",
    "column_sums = df[column_names].sum().plot(kind=\"bar\")"
   ]
  },
  {
   "cell_type": "code",
   "execution_count": 8,
   "id": "47b456d1",
   "metadata": {
    "execution": {
     "iopub.execute_input": "2024-03-16T05:53:09.587543Z",
     "iopub.status.busy": "2024-03-16T05:53:09.586929Z",
     "iopub.status.idle": "2024-03-16T05:53:09.614767Z",
     "shell.execute_reply": "2024-03-16T05:53:09.613654Z"
    },
    "papermill": {
     "duration": 0.038717,
     "end_time": "2024-03-16T05:53:09.617623",
     "exception": false,
     "start_time": "2024-03-16T05:53:09.578906",
     "status": "completed"
    },
    "tags": []
   },
   "outputs": [
    {
     "data": {
      "text/html": [
       "<div>\n",
       "<style scoped>\n",
       "    .dataframe tbody tr th:only-of-type {\n",
       "        vertical-align: middle;\n",
       "    }\n",
       "\n",
       "    .dataframe tbody tr th {\n",
       "        vertical-align: top;\n",
       "    }\n",
       "\n",
       "    .dataframe thead th {\n",
       "        text-align: right;\n",
       "    }\n",
       "</style>\n",
       "<table border=\"1\" class=\"dataframe\">\n",
       "  <thead>\n",
       "    <tr style=\"text-align: right;\">\n",
       "      <th></th>\n",
       "      <th>Country/Region</th>\n",
       "      <th>Confirmed</th>\n",
       "      <th>Deaths</th>\n",
       "      <th>Recovered</th>\n",
       "      <th>Active</th>\n",
       "      <th>New cases</th>\n",
       "      <th>New deaths</th>\n",
       "      <th>New recovered</th>\n",
       "      <th>Deaths / 100 Cases</th>\n",
       "      <th>Recovered / 100 Cases</th>\n",
       "      <th>Deaths / 100 Recovered</th>\n",
       "      <th>Confirmed last week</th>\n",
       "      <th>1 week change</th>\n",
       "      <th>1 week % increase</th>\n",
       "    </tr>\n",
       "    <tr>\n",
       "      <th>WHO Region</th>\n",
       "      <th></th>\n",
       "      <th></th>\n",
       "      <th></th>\n",
       "      <th></th>\n",
       "      <th></th>\n",
       "      <th></th>\n",
       "      <th></th>\n",
       "      <th></th>\n",
       "      <th></th>\n",
       "      <th></th>\n",
       "      <th></th>\n",
       "      <th></th>\n",
       "      <th></th>\n",
       "      <th></th>\n",
       "    </tr>\n",
       "  </thead>\n",
       "  <tbody>\n",
       "    <tr>\n",
       "      <th>Africa</th>\n",
       "      <td>AlgeriaAngolaBeninBotswanaBurkina FasoBurundiC...</td>\n",
       "      <td>723207</td>\n",
       "      <td>12223</td>\n",
       "      <td>440645</td>\n",
       "      <td>270339</td>\n",
       "      <td>12176</td>\n",
       "      <td>353</td>\n",
       "      <td>14563</td>\n",
       "      <td>110.71</td>\n",
       "      <td>2736.71</td>\n",
       "      <td>inf</td>\n",
       "      <td>608120</td>\n",
       "      <td>115087</td>\n",
       "      <td>868.15</td>\n",
       "    </tr>\n",
       "    <tr>\n",
       "      <th>Americas</th>\n",
       "      <td>Antigua and BarbudaArgentinaBahamasBarbadosBel...</td>\n",
       "      <td>8839286</td>\n",
       "      <td>342732</td>\n",
       "      <td>4468616</td>\n",
       "      <td>4027938</td>\n",
       "      <td>129531</td>\n",
       "      <td>3555</td>\n",
       "      <td>94776</td>\n",
       "      <td>106.84</td>\n",
       "      <td>2180.20</td>\n",
       "      <td>inf</td>\n",
       "      <td>7815198</td>\n",
       "      <td>1024088</td>\n",
       "      <td>571.59</td>\n",
       "    </tr>\n",
       "    <tr>\n",
       "      <th>Eastern Mediterranean</th>\n",
       "      <td>AfghanistanBahrainDjiboutiEgyptIranIraqJordanK...</td>\n",
       "      <td>1490744</td>\n",
       "      <td>38339</td>\n",
       "      <td>1201400</td>\n",
       "      <td>251005</td>\n",
       "      <td>12410</td>\n",
       "      <td>445</td>\n",
       "      <td>14843</td>\n",
       "      <td>78.39</td>\n",
       "      <td>1465.05</td>\n",
       "      <td>inf</td>\n",
       "      <td>1398847</td>\n",
       "      <td>91897</td>\n",
       "      <td>230.61</td>\n",
       "    </tr>\n",
       "    <tr>\n",
       "      <th>Europe</th>\n",
       "      <td>AlbaniaAndorraArmeniaAustriaAzerbaijanBelarusB...</td>\n",
       "      <td>3299523</td>\n",
       "      <td>211144</td>\n",
       "      <td>1993723</td>\n",
       "      <td>1094656</td>\n",
       "      <td>22294</td>\n",
       "      <td>304</td>\n",
       "      <td>11732</td>\n",
       "      <td>235.11</td>\n",
       "      <td>3843.56</td>\n",
       "      <td>inf</td>\n",
       "      <td>3146816</td>\n",
       "      <td>152707</td>\n",
       "      <td>435.10</td>\n",
       "    </tr>\n",
       "    <tr>\n",
       "      <th>South-East Asia</th>\n",
       "      <td>BangladeshBhutanBurmaIndiaIndonesiaMaldivesNep...</td>\n",
       "      <td>1835297</td>\n",
       "      <td>41349</td>\n",
       "      <td>1156933</td>\n",
       "      <td>637015</td>\n",
       "      <td>48993</td>\n",
       "      <td>734</td>\n",
       "      <td>37582</td>\n",
       "      <td>12.96</td>\n",
       "      <td>667.04</td>\n",
       "      <td>19.56</td>\n",
       "      <td>1478283</td>\n",
       "      <td>357014</td>\n",
       "      <td>85.13</td>\n",
       "    </tr>\n",
       "    <tr>\n",
       "      <th>Western Pacific</th>\n",
       "      <td>AustraliaBruneiCambodiaChinaFijiJapanLaosMalay...</td>\n",
       "      <td>292428</td>\n",
       "      <td>8249</td>\n",
       "      <td>206770</td>\n",
       "      <td>77409</td>\n",
       "      <td>3289</td>\n",
       "      <td>24</td>\n",
       "      <td>1127</td>\n",
       "      <td>20.64</td>\n",
       "      <td>1228.88</td>\n",
       "      <td>28.60</td>\n",
       "      <td>266359</td>\n",
       "      <td>26069</td>\n",
       "      <td>353.78</td>\n",
       "    </tr>\n",
       "  </tbody>\n",
       "</table>\n",
       "</div>"
      ],
      "text/plain": [
       "                                                          Country/Region  \\\n",
       "WHO Region                                                                 \n",
       "Africa                 AlgeriaAngolaBeninBotswanaBurkina FasoBurundiC...   \n",
       "Americas               Antigua and BarbudaArgentinaBahamasBarbadosBel...   \n",
       "Eastern Mediterranean  AfghanistanBahrainDjiboutiEgyptIranIraqJordanK...   \n",
       "Europe                 AlbaniaAndorraArmeniaAustriaAzerbaijanBelarusB...   \n",
       "South-East Asia        BangladeshBhutanBurmaIndiaIndonesiaMaldivesNep...   \n",
       "Western Pacific        AustraliaBruneiCambodiaChinaFijiJapanLaosMalay...   \n",
       "\n",
       "                       Confirmed  Deaths  Recovered   Active  New cases  \\\n",
       "WHO Region                                                                \n",
       "Africa                    723207   12223     440645   270339      12176   \n",
       "Americas                 8839286  342732    4468616  4027938     129531   \n",
       "Eastern Mediterranean    1490744   38339    1201400   251005      12410   \n",
       "Europe                   3299523  211144    1993723  1094656      22294   \n",
       "South-East Asia          1835297   41349    1156933   637015      48993   \n",
       "Western Pacific           292428    8249     206770    77409       3289   \n",
       "\n",
       "                       New deaths  New recovered  Deaths / 100 Cases  \\\n",
       "WHO Region                                                             \n",
       "Africa                        353          14563              110.71   \n",
       "Americas                     3555          94776              106.84   \n",
       "Eastern Mediterranean         445          14843               78.39   \n",
       "Europe                        304          11732              235.11   \n",
       "South-East Asia               734          37582               12.96   \n",
       "Western Pacific                24           1127               20.64   \n",
       "\n",
       "                       Recovered / 100 Cases  Deaths / 100 Recovered  \\\n",
       "WHO Region                                                             \n",
       "Africa                               2736.71                     inf   \n",
       "Americas                             2180.20                     inf   \n",
       "Eastern Mediterranean                1465.05                     inf   \n",
       "Europe                               3843.56                     inf   \n",
       "South-East Asia                       667.04                   19.56   \n",
       "Western Pacific                      1228.88                   28.60   \n",
       "\n",
       "                       Confirmed last week  1 week change  1 week % increase  \n",
       "WHO Region                                                                    \n",
       "Africa                              608120         115087             868.15  \n",
       "Americas                           7815198        1024088             571.59  \n",
       "Eastern Mediterranean              1398847          91897             230.61  \n",
       "Europe                             3146816         152707             435.10  \n",
       "South-East Asia                    1478283         357014              85.13  \n",
       "Western Pacific                     266359          26069             353.78  "
      ]
     },
     "execution_count": 8,
     "metadata": {},
     "output_type": "execute_result"
    }
   ],
   "source": [
    "Region = df.groupby(by='WHO Region').sum()\n",
    "Region"
   ]
  },
  {
   "cell_type": "code",
   "execution_count": 9,
   "id": "78a9f818",
   "metadata": {
    "execution": {
     "iopub.execute_input": "2024-03-16T05:53:09.633914Z",
     "iopub.status.busy": "2024-03-16T05:53:09.633497Z",
     "iopub.status.idle": "2024-03-16T05:53:09.951415Z",
     "shell.execute_reply": "2024-03-16T05:53:09.950133Z"
    },
    "papermill": {
     "duration": 0.329228,
     "end_time": "2024-03-16T05:53:09.954206",
     "exception": false,
     "start_time": "2024-03-16T05:53:09.624978",
     "status": "completed"
    },
    "tags": []
   },
   "outputs": [
    {
     "data": {
      "text/plain": [
       "Text(0.5, 1.0, ' Confirmed Cases')"
      ]
     },
     "execution_count": 9,
     "metadata": {},
     "output_type": "execute_result"
    },
    {
     "data": {
      "image/png": "[encoded data removed]",
      "text/plain": [
       "<Figure size 640x480 with 1 Axes>"
      ]
     },
     "metadata": {},
     "output_type": "display_data"
    }
   ],
   "source": [
    "Region['Confirmed'].plot(kind='bar', ) \n",
    "plt.title(' Confirmed Cases')"
   ]
  },
  {
   "cell_type": "code",
   "execution_count": 10,
   "id": "cdb483db",
   "metadata": {
    "execution": {
     "iopub.execute_input": "2024-03-16T05:53:09.971181Z",
     "iopub.status.busy": "2024-03-16T05:53:09.970809Z",
     "iopub.status.idle": "2024-03-16T05:53:10.311898Z",
     "shell.execute_reply": "2024-03-16T05:53:10.310782Z"
    },
    "papermill": {
     "duration": 0.352549,
     "end_time": "2024-03-16T05:53:10.314474",
     "exception": false,
     "start_time": "2024-03-16T05:53:09.961925",
     "status": "completed"
    },
    "tags": []
   },
   "outputs": [
    {
     "data": {
      "text/plain": [
       "Text(0.5, 1.0, ' Death')"
      ]
     },
     "execution_count": 10,
     "metadata": {},
     "output_type": "execute_result"
    },
    {
     "data": {
      "image/png": "[encoded data removed]",
      "text/plain": [
       "<Figure size 640x480 with 1 Axes>"
      ]
     },
     "metadata": {},
     "output_type": "display_data"
    }
   ],
   "source": [
    "Region['Deaths'].plot(kind='bar', ) \n",
    "plt.title(' Death')"
   ]
  },
  {
   "cell_type": "code",
   "execution_count": 11,
   "id": "70353bc5",
   "metadata": {
    "execution": {
     "iopub.execute_input": "2024-03-16T05:53:10.333669Z",
     "iopub.status.busy": "2024-03-16T05:53:10.333254Z",
     "iopub.status.idle": "2024-03-16T05:53:10.606483Z",
     "shell.execute_reply": "2024-03-16T05:53:10.605000Z"
    },
    "papermill": {
     "duration": 0.28887,
     "end_time": "2024-03-16T05:53:10.612033",
     "exception": false,
     "start_time": "2024-03-16T05:53:10.323163",
     "status": "completed"
    },
    "tags": []
   },
   "outputs": [
    {
     "data": {
      "text/plain": [
       "Text(0.5, 1.0, ' Recovered')"
      ]
     },
     "execution_count": 11,
     "metadata": {},
     "output_type": "execute_result"
    },
    {
     "data": {
      "image/png": "[encoded data removed]",
      "text/plain": [
       "<Figure size 1000x500 with 1 Axes>"
      ]
     },
     "metadata": {},
     "output_type": "display_data"
    }
   ],
   "source": [
    "Region['Recovered'].plot(kind='pie',  figsize=(10,5), shadow=True, autopct='%1.1f%%') \n",
    "plt.title(' Recovered')"
   ]
  },
  {
   "cell_type": "code",
   "execution_count": 12,
   "id": "9a1d60eb",
   "metadata": {
    "execution": {
     "iopub.execute_input": "2024-03-16T05:53:10.641264Z",
     "iopub.status.busy": "2024-03-16T05:53:10.640224Z",
     "iopub.status.idle": "2024-03-16T05:53:10.912402Z",
     "shell.execute_reply": "2024-03-16T05:53:10.910800Z"
    },
    "papermill": {
     "duration": 0.287348,
     "end_time": "2024-03-16T05:53:10.916988",
     "exception": false,
     "start_time": "2024-03-16T05:53:10.629640",
     "status": "completed"
    },
    "tags": []
   },
   "outputs": [
    {
     "data": {
      "text/plain": [
       "Text(0.5, 1.0, ' Active')"
      ]
     },
     "execution_count": 12,
     "metadata": {},
     "output_type": "execute_result"
    },
    {
     "data": {
      "image/png": "[encoded data removed]",
      "text/plain": [
       "<Figure size 1000x500 with 1 Axes>"
      ]
     },
     "metadata": {},
     "output_type": "display_data"
    }
   ],
   "source": [
    "Region['Active'].plot(kind='pie', figsize=(10,5), shadow=True, autopct='%1.1f%%') # autopct create % ) \n",
    "plt.title(' Active')"
   ]
  },
  {
   "cell_type": "markdown",
   "id": "137c4b25",
   "metadata": {
    "papermill": {
     "duration": 0.009825,
     "end_time": "2024-03-16T05:53:10.945648",
     "exception": false,
     "start_time": "2024-03-16T05:53:10.935823",
     "status": "completed"
    },
    "tags": []
   },
   "source": [
    "**Credit**:\n",
    "\n",
    "https://www.kaggle.com/code/adilashrafi/covid-19-simple-eda?rvi=1"
   ]
  }
 ],
 "metadata": {
  "kaggle": {
   "accelerator": "none",
   "dataSources": [
    {
     "datasetId": 494766,
     "sourceId": 1402868,
     "sourceType": "datasetVersion"
    }
   ],
   "dockerImageVersionId": 30664,
   "isGpuEnabled": false,
   "isInternetEnabled": true,
   "language": "python",
   "sourceType": "notebook"
  },
  "kernelspec": {
   "display_name": "Python 3",
   "language": "python",
   "name": "python3"
  },
  "language_info": {
   "codemirror_mode": {
    "name": "ipython",
    "version": 3
   },
   "file_extension": ".py",
   "mimetype": "text/x-python",
   "name": "python",
   "nbconvert_exporter": "python",
   "pygments_lexer": "ipython3",
   "version": "3.10.13"
  },
  "papermill": {
   "default_parameters": {},
   "duration": 7.733947,
   "end_time": "2024-03-16T05:53:11.577315",
   "environment_variables": {},
   "exception": null,
   "input_path": "__notebook__.ipynb",
   "output_path": "__notebook__.ipynb",
   "parameters": {},
   "start_time": "2024-03-16T05:53:03.843368",
   "version": "2.5.0"
  }
 },
 "nbformat": 4,
 "nbformat_minor": 5
}
